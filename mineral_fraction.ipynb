{
  "nbformat": 4,
  "nbformat_minor": 0,
  "metadata": {
    "colab": {
      "provenance": []
    },
    "kernelspec": {
      "name": "python3",
      "display_name": "Python 3"
    },
    "language_info": {
      "name": "python"
    }
  },
  "cells": [
    {
      "cell_type": "code",
      "execution_count": 3,
      "metadata": {
        "colab": {
          "base_uri": "https://localhost:8080/"
        },
        "id": "79LKj9Wwvg-M",
        "outputId": "18e99db4-e668-43db-f48b-0a8e7eceeb11"
      },
      "outputs": [
        {
          "output_type": "stream",
          "name": "stdout",
          "text": [
            "[[0.15414856]\n",
            " [0.39044072]\n",
            " [0.26236292]\n",
            " [0.1930478 ]]\n"
          ]
        }
      ],
      "source": [
        "# Define measured data\n",
        "import numpy as np \n",
        "DT_meas, RHOB_meas, NPHI_meas = 75, 2.4, 0.2\n",
        "\n",
        "# Our mineral database\n",
        "DT_qtz, DT_cal, DT_dol, DT_f = 55.5, 47.5, 43.5, 189\n",
        "RHOB_qtz, RHOB_cal, RHOB_dol, RHOB_f = 2.65, 2.7, 2.8, 1.05\n",
        "NPHI_qtz, NPHI_cal, NPHI_dol, NPHI_f = -0.04, 0, 0.05, 1\n",
        "\n",
        "# Create 2D matrix for database\n",
        "A=np.array([[DT_qtz, DT_cal, DT_dol, DT_f],\n",
        "     [RHOB_qtz, RHOB_cal, RHOB_dol, RHOB_f],\n",
        "     [NPHI_qtz, NPHI_cal, NPHI_dol, NPHI_f],\n",
        "     [1, 1, 1, 1]])\n",
        "\n",
        "B = np.array([[DT_meas],\n",
        "              [RHOB_meas],\n",
        "              [NPHI_meas],\n",
        "              [1]])\n",
        "\n",
        "# Invert A matrix\n",
        "A_inv = np.linalg.inv(A)\n",
        "\n",
        "# Multiply A-1 with B to find x\n",
        "x = A_inv @ B\n",
        "\n",
        "print(x)"
      ]
    },
    {
      "cell_type": "code",
      "source": [
        "X_qtz, X_cal, X_dol, porosity = x[0,:], x[1,:], x[2,:], x[3,:]\n",
        "X_qtz"
      ],
      "metadata": {
        "colab": {
          "base_uri": "https://localhost:8080/"
        },
        "id": "gsvSRmZWv5ra",
        "outputId": "c3ec47c2-d557-47f3-cbf1-79d3a40b9448"
      },
      "execution_count": 4,
      "outputs": [
        {
          "output_type": "execute_result",
          "data": {
            "text/plain": [
              "array([0.15414856])"
            ]
          },
          "metadata": {},
          "execution_count": 4
        }
      ]
    },
    {
      "cell_type": "code",
      "source": [
        "def multimin(DT_meas, RHOB_meas, NPHI_meas):\n",
        "  \"\"\"\n",
        "  This is a function to calculate mineral fractions\n",
        "  Given measured well log data\n",
        "  Assumption: Rock is composed of ONLY 3 minerals\n",
        "\n",
        "  INPUT:\n",
        "\n",
        "  DT_meas: measured sonic log\n",
        "  RHOB_meas: measured bulk density\n",
        "  NPHI_meas: measured neutron porosity\n",
        "\n",
        "  OUTPUT:\n",
        "\n",
        "  X_qtz, X_cal, X_dol, porosity: These are the fractions\n",
        "  \"\"\"\n",
        "  # Our mineral database\n",
        "  DT_qtz, DT_cal, DT_dol, DT_f = 55.5, 47.5, 43.5, 189\n",
        "  RHOB_qtz, RHOB_cal, RHOB_dol, RHOB_f = 2.65, 2.7, 2.8, 1.05\n",
        "  NPHI_qtz, NPHI_cal, NPHI_dol, NPHI_f = -0.04, 0, 0.05, 1\n",
        "\n",
        "  # Create 2D matrix for database\n",
        "  A = np.array([[DT_qtz, DT_cal, DT_dol, DT_f],\n",
        "      [RHOB_qtz, RHOB_cal, RHOB_dol, RHOB_f],\n",
        "      [NPHI_qtz, NPHI_cal, NPHI_dol, NPHI_f],\n",
        "      [1, 1, 1, 1]])\n",
        "\n",
        "  B = np.array([[DT_meas],\n",
        "                [RHOB_meas],\n",
        "                [NPHI_meas],\n",
        "                [1]])\n",
        "\n",
        "  # Invert A matrix\n",
        "  A_inv = np.linalg.inv(A)\n",
        "\n",
        "  # Multiply A-1 with B to find x\n",
        "  x = A_inv @ B  \n",
        "\n",
        "  X_qtz, X_cal, X_dol, porosity = x[0,:], x[1,:], x[2,:], x[3,:]\n",
        "\n",
        "  return X_qtz, X_cal, X_dol, porosity"
      ],
      "metadata": {
        "id": "JQF2SWWswFMG"
      },
      "execution_count": 5,
      "outputs": []
    }
  ]
}